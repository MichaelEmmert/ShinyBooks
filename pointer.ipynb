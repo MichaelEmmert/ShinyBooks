{
 "cells": [
  {
   "cell_type": "markdown",
   "metadata": {},
   "source": [
    "This script takes the closest book for every book and creates a new column as the output.\n",
    "This is a work around to Shinyapp.io not opening python script"
   ]
  },
  {
   "cell_type": "code",
   "execution_count": 2,
   "metadata": {},
   "outputs": [],
   "source": [
    "from gensim.models.doc2vec import Doc2Vec\n",
    "import pandas as pd"
   ]
  },
  {
   "cell_type": "code",
   "execution_count": 3,
   "metadata": {},
   "outputs": [],
   "source": [
    "model = Doc2Vec.load('./Description_doc2vec_model')\n",
    "descrips = pd.read_csv('data/descriptions.csv')\n",
    "description_with_pointer = descrips.dropna()\n",
    "books = pd.read_csv('data/clean_books.csv')\n",
    "books_ = books.dropna()"
   ]
  },
  {
   "cell_type": "code",
   "execution_count": 4,
   "metadata": {},
   "outputs": [],
   "source": [
    "def Book_similarity(Title):\n",
    "    result = model.docvecs.most_similar([model[Title]])\n",
    "    return result[1][0]"
   ]
  },
  {
   "cell_type": "code",
   "execution_count": 5,
   "metadata": {},
   "outputs": [],
   "source": [
    "lst_ = []\n",
    "for book_title in description_with_pointer.book_title:\n",
    "    lst_.append(Book_similarity(book_title))"
   ]
  },
  {
   "cell_type": "code",
   "execution_count": 6,
   "metadata": {
    "scrolled": false
   },
   "outputs": [
    {
     "name": "stderr",
     "output_type": "stream",
     "text": [
      "C:\\Users\\Micha\\Downloads\\Anaconda\\lib\\site-packages\\ipykernel_launcher.py:1: SettingWithCopyWarning: \n",
      "A value is trying to be set on a copy of a slice from a DataFrame.\n",
      "Try using .loc[row_indexer,col_indexer] = value instead\n",
      "\n",
      "See the caveats in the documentation: http://pandas.pydata.org/pandas-docs/stable/user_guide/indexing.html#returning-a-view-versus-a-copy\n",
      "  \"\"\"Entry point for launching an IPython kernel.\n"
     ]
    }
   ],
   "source": [
    "description_with_pointer['Pointer'] = lst_"
   ]
  },
  {
   "cell_type": "code",
   "execution_count": 7,
   "metadata": {},
   "outputs": [],
   "source": [
    "books_ = books_[['book_title','author','genre','book_rating','book_pages','image_url']]"
   ]
  },
  {
   "cell_type": "code",
   "execution_count": 8,
   "metadata": {},
   "outputs": [],
   "source": [
    "point = description_with_pointer[['image_url','Pointer','book_desc']]"
   ]
  },
  {
   "cell_type": "code",
   "execution_count": 21,
   "metadata": {
    "scrolled": false
   },
   "outputs": [],
   "source": [
    "result = books_.merge(point, on = \"image_url\")\n",
    "final = result[['book_title','author','genre','book_rating','book_pages','book_desc','image_url','Pointer']]"
   ]
  },
  {
   "cell_type": "code",
   "execution_count": 22,
   "metadata": {
    "scrolled": true
   },
   "outputs": [
    {
     "data": {
      "text/html": [
       "<div>\n",
       "<style scoped>\n",
       "    .dataframe tbody tr th:only-of-type {\n",
       "        vertical-align: middle;\n",
       "    }\n",
       "\n",
       "    .dataframe tbody tr th {\n",
       "        vertical-align: top;\n",
       "    }\n",
       "\n",
       "    .dataframe thead th {\n",
       "        text-align: right;\n",
       "    }\n",
       "</style>\n",
       "<table border=\"1\" class=\"dataframe\">\n",
       "  <thead>\n",
       "    <tr style=\"text-align: right;\">\n",
       "      <th></th>\n",
       "      <th>book_title</th>\n",
       "      <th>author</th>\n",
       "      <th>genre</th>\n",
       "      <th>book_rating</th>\n",
       "      <th>book_pages</th>\n",
       "      <th>book_desc</th>\n",
       "      <th>image_url</th>\n",
       "      <th>Pointer</th>\n",
       "    </tr>\n",
       "  </thead>\n",
       "  <tbody>\n",
       "    <tr>\n",
       "      <th>0</th>\n",
       "      <td>The Hunger Games</td>\n",
       "      <td>Suzanne Collins</td>\n",
       "      <td>Young Adult</td>\n",
       "      <td>4.33</td>\n",
       "      <td>374.0</td>\n",
       "      <td>Winning will make you famous. Losing means cer...</td>\n",
       "      <td>https://images.gr-assets.com/books/1447303603l...</td>\n",
       "      <td>The Broken Eye</td>\n",
       "    </tr>\n",
       "    <tr>\n",
       "      <th>1</th>\n",
       "      <td>The Hunger Games</td>\n",
       "      <td>Suzanne Collins</td>\n",
       "      <td>Fiction</td>\n",
       "      <td>4.33</td>\n",
       "      <td>374.0</td>\n",
       "      <td>Winning will make you famous. Losing means cer...</td>\n",
       "      <td>https://images.gr-assets.com/books/1447303603l...</td>\n",
       "      <td>The Broken Eye</td>\n",
       "    </tr>\n",
       "    <tr>\n",
       "      <th>2</th>\n",
       "      <td>The Hunger Games</td>\n",
       "      <td>Suzanne Collins</td>\n",
       "      <td>Science Fiction</td>\n",
       "      <td>4.33</td>\n",
       "      <td>374.0</td>\n",
       "      <td>Winning will make you famous. Losing means cer...</td>\n",
       "      <td>https://images.gr-assets.com/books/1447303603l...</td>\n",
       "      <td>The Broken Eye</td>\n",
       "    </tr>\n",
       "    <tr>\n",
       "      <th>3</th>\n",
       "      <td>The Hunger Games</td>\n",
       "      <td>Suzanne Collins</td>\n",
       "      <td>Dystopia</td>\n",
       "      <td>4.33</td>\n",
       "      <td>374.0</td>\n",
       "      <td>Winning will make you famous. Losing means cer...</td>\n",
       "      <td>https://images.gr-assets.com/books/1447303603l...</td>\n",
       "      <td>The Broken Eye</td>\n",
       "    </tr>\n",
       "    <tr>\n",
       "      <th>4</th>\n",
       "      <td>The Hunger Games</td>\n",
       "      <td>Suzanne Collins</td>\n",
       "      <td>Fantasy</td>\n",
       "      <td>4.33</td>\n",
       "      <td>374.0</td>\n",
       "      <td>Winning will make you famous. Losing means cer...</td>\n",
       "      <td>https://images.gr-assets.com/books/1447303603l...</td>\n",
       "      <td>The Broken Eye</td>\n",
       "    </tr>\n",
       "  </tbody>\n",
       "</table>\n",
       "</div>"
      ],
      "text/plain": [
       "         book_title           author            genre  book_rating  \\\n",
       "0  The Hunger Games  Suzanne Collins      Young Adult         4.33   \n",
       "1  The Hunger Games  Suzanne Collins          Fiction         4.33   \n",
       "2  The Hunger Games  Suzanne Collins  Science Fiction         4.33   \n",
       "3  The Hunger Games  Suzanne Collins         Dystopia         4.33   \n",
       "4  The Hunger Games  Suzanne Collins          Fantasy         4.33   \n",
       "\n",
       "   book_pages                                          book_desc  \\\n",
       "0       374.0  Winning will make you famous. Losing means cer...   \n",
       "1       374.0  Winning will make you famous. Losing means cer...   \n",
       "2       374.0  Winning will make you famous. Losing means cer...   \n",
       "3       374.0  Winning will make you famous. Losing means cer...   \n",
       "4       374.0  Winning will make you famous. Losing means cer...   \n",
       "\n",
       "                                           image_url         Pointer  \n",
       "0  https://images.gr-assets.com/books/1447303603l...  The Broken Eye  \n",
       "1  https://images.gr-assets.com/books/1447303603l...  The Broken Eye  \n",
       "2  https://images.gr-assets.com/books/1447303603l...  The Broken Eye  \n",
       "3  https://images.gr-assets.com/books/1447303603l...  The Broken Eye  \n",
       "4  https://images.gr-assets.com/books/1447303603l...  The Broken Eye  "
      ]
     },
     "execution_count": 22,
     "metadata": {},
     "output_type": "execute_result"
    }
   ],
   "source": [
    "final.head()"
   ]
  },
  {
   "cell_type": "code",
   "execution_count": 23,
   "metadata": {},
   "outputs": [
    {
     "data": {
      "text/plain": [
       "337002"
      ]
     },
     "execution_count": 23,
     "metadata": {},
     "output_type": "execute_result"
    }
   ],
   "source": [
    "len(final)"
   ]
  },
  {
   "cell_type": "code",
   "execution_count": 24,
   "metadata": {},
   "outputs": [],
   "source": [
    "#removes non-english titles\n",
    "final = final[~final.book_title.str.contains(r'([^a-zA-Z0-9:,. ])')]\n",
    "final = final[~final.author.str.contains(r'([^a-zA-Z0-9:,. ])')]"
   ]
  },
  {
   "cell_type": "code",
   "execution_count": 25,
   "metadata": {},
   "outputs": [
    {
     "data": {
      "text/plain": [
       "257235"
      ]
     },
     "execution_count": 25,
     "metadata": {},
     "output_type": "execute_result"
    }
   ],
   "source": [
    "len(final)"
   ]
  },
  {
   "cell_type": "code",
   "execution_count": 26,
   "metadata": {},
   "outputs": [],
   "source": [
    "final = final[0:200000]"
   ]
  },
  {
   "cell_type": "code",
   "execution_count": 27,
   "metadata": {},
   "outputs": [
    {
     "data": {
      "text/plain": [
       "200000"
      ]
     },
     "execution_count": 27,
     "metadata": {},
     "output_type": "execute_result"
    }
   ],
   "source": [
    "len(final)"
   ]
  },
  {
   "cell_type": "code",
   "execution_count": 28,
   "metadata": {},
   "outputs": [],
   "source": [
    "final.to_csv(\"shinyupload/data/Single_dataframe.csv\")"
   ]
  },
  {
   "cell_type": "code",
   "execution_count": null,
   "metadata": {},
   "outputs": [],
   "source": []
  }
 ],
 "metadata": {
  "kernelspec": {
   "display_name": "Python 3",
   "language": "python",
   "name": "python3"
  },
  "language_info": {
   "codemirror_mode": {
    "name": "ipython",
    "version": 3
   },
   "file_extension": ".py",
   "mimetype": "text/x-python",
   "name": "python",
   "nbconvert_exporter": "python",
   "pygments_lexer": "ipython3",
   "version": "3.7.3"
  }
 },
 "nbformat": 4,
 "nbformat_minor": 2
}
