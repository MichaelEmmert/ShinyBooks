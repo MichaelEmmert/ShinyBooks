{
 "cells": [
  {
   "cell_type": "code",
   "execution_count": 1,
   "metadata": {},
   "outputs": [],
   "source": [
    "import pandas as pd\n",
    "import numpy as np\n",
    "import re"
   ]
  },
  {
   "cell_type": "code",
   "execution_count": 2,
   "metadata": {},
   "outputs": [],
   "source": [
    "books = pd.read_csv('data/book_data.csv')"
   ]
  },
  {
   "cell_type": "code",
   "execution_count": 3,
   "metadata": {},
   "outputs": [
    {
     "data": {
      "text/plain": [
       "book_authors          object\n",
       "book_desc             object\n",
       "book_edition          object\n",
       "book_format           object\n",
       "book_isbn             object\n",
       "book_pages            object\n",
       "book_rating          float64\n",
       "book_rating_count      int64\n",
       "book_review_count      int64\n",
       "book_title            object\n",
       "genres                object\n",
       "image_url             object\n",
       "dtype: object"
      ]
     },
     "execution_count": 3,
     "metadata": {},
     "output_type": "execute_result"
    }
   ],
   "source": [
    "books.dtypes"
   ]
  },
  {
   "cell_type": "code",
   "execution_count": 7,
   "metadata": {
    "scrolled": true
   },
   "outputs": [
    {
     "data": {
      "text/html": [
       "<div>\n",
       "<style scoped>\n",
       "    .dataframe tbody tr th:only-of-type {\n",
       "        vertical-align: middle;\n",
       "    }\n",
       "\n",
       "    .dataframe tbody tr th {\n",
       "        vertical-align: top;\n",
       "    }\n",
       "\n",
       "    .dataframe thead th {\n",
       "        text-align: right;\n",
       "    }\n",
       "</style>\n",
       "<table border=\"1\" class=\"dataframe\">\n",
       "  <thead>\n",
       "    <tr style=\"text-align: right;\">\n",
       "      <th></th>\n",
       "      <th>book_authors</th>\n",
       "      <th>book_desc</th>\n",
       "      <th>book_edition</th>\n",
       "      <th>book_format</th>\n",
       "      <th>book_isbn</th>\n",
       "      <th>book_pages</th>\n",
       "      <th>book_rating</th>\n",
       "      <th>book_rating_count</th>\n",
       "      <th>book_review_count</th>\n",
       "      <th>book_title</th>\n",
       "      <th>genres</th>\n",
       "      <th>image_url</th>\n",
       "      <th>cleaned_description</th>\n",
       "    </tr>\n",
       "  </thead>\n",
       "  <tbody>\n",
       "    <tr>\n",
       "      <th>0</th>\n",
       "      <td>Suzanne Collins</td>\n",
       "      <td>Winning will make you famous. Losing means cer...</td>\n",
       "      <td>NaN</td>\n",
       "      <td>hardcover</td>\n",
       "      <td>9.78044E+12</td>\n",
       "      <td>374 pages</td>\n",
       "      <td>4.33</td>\n",
       "      <td>5519135</td>\n",
       "      <td>160706</td>\n",
       "      <td>The Hunger Games</td>\n",
       "      <td>Young Adult|Fiction|Science Fiction|Dystopia|F...</td>\n",
       "      <td>https://images.gr-assets.com/books/1447303603l...</td>\n",
       "      <td>winning will make you famous losing means cert...</td>\n",
       "    </tr>\n",
       "    <tr>\n",
       "      <th>1</th>\n",
       "      <td>J.K. Rowling|Mary GrandPré</td>\n",
       "      <td>There is a door at the end of a silent corrido...</td>\n",
       "      <td>US Edition</td>\n",
       "      <td>paperback</td>\n",
       "      <td>9.78044E+12</td>\n",
       "      <td>870 pages</td>\n",
       "      <td>4.48</td>\n",
       "      <td>2041594</td>\n",
       "      <td>33264</td>\n",
       "      <td>Harry Potter and the Order of the Phoenix</td>\n",
       "      <td>Fantasy|Young Adult|Fiction</td>\n",
       "      <td>https://images.gr-assets.com/books/1255614970l...</td>\n",
       "      <td>there is a door at the end of a silent corrido...</td>\n",
       "    </tr>\n",
       "  </tbody>\n",
       "</table>\n",
       "</div>"
      ],
      "text/plain": [
       "                 book_authors  \\\n",
       "0             Suzanne Collins   \n",
       "1  J.K. Rowling|Mary GrandPré   \n",
       "\n",
       "                                           book_desc book_edition book_format  \\\n",
       "0  Winning will make you famous. Losing means cer...          NaN   hardcover   \n",
       "1  There is a door at the end of a silent corrido...   US Edition   paperback   \n",
       "\n",
       "     book_isbn book_pages  book_rating  book_rating_count  book_review_count  \\\n",
       "0  9.78044E+12  374 pages         4.33            5519135             160706   \n",
       "1  9.78044E+12  870 pages         4.48            2041594              33264   \n",
       "\n",
       "                                  book_title  \\\n",
       "0                           The Hunger Games   \n",
       "1  Harry Potter and the Order of the Phoenix   \n",
       "\n",
       "                                              genres  \\\n",
       "0  Young Adult|Fiction|Science Fiction|Dystopia|F...   \n",
       "1                        Fantasy|Young Adult|Fiction   \n",
       "\n",
       "                                           image_url  \\\n",
       "0  https://images.gr-assets.com/books/1447303603l...   \n",
       "1  https://images.gr-assets.com/books/1255614970l...   \n",
       "\n",
       "                                 cleaned_description  \n",
       "0  winning will make you famous losing means cert...  \n",
       "1  there is a door at the end of a silent corrido...  "
      ]
     },
     "execution_count": 7,
     "metadata": {},
     "output_type": "execute_result"
    }
   ],
   "source": [
    "books.head(2)"
   ]
  },
  {
   "cell_type": "code",
   "execution_count": 5,
   "metadata": {
    "scrolled": true
   },
   "outputs": [],
   "source": [
    "#cleaning book format\n",
    "books.book_format = books.book_format.str.strip().str.lower()"
   ]
  },
  {
   "cell_type": "code",
   "execution_count": 6,
   "metadata": {
    "scrolled": false
   },
   "outputs": [],
   "source": [
    "#cleaning descriptions\n",
    "books['cleaned_description'] = books.book_desc.str.replace('-',' ').str.replace(r'([^a-zA-Z0-9_ ])','').str.lower()"
   ]
  },
  {
   "cell_type": "code",
   "execution_count": 8,
   "metadata": {},
   "outputs": [],
   "source": [
    "#cleaning book pages\n",
    "books.book_pages = books.book_pages.str.extract(r'(\\d+?) pages?').astype(float)"
   ]
  },
  {
   "cell_type": "code",
   "execution_count": 11,
   "metadata": {
    "scrolled": true
   },
   "outputs": [],
   "source": [
    "descriptions = books[['book_title','book_authors','book_desc','genres','image_url','cleaned_description']]"
   ]
  },
  {
   "cell_type": "code",
   "execution_count": 12,
   "metadata": {},
   "outputs": [
    {
     "data": {
      "text/html": [
       "<div>\n",
       "<style scoped>\n",
       "    .dataframe tbody tr th:only-of-type {\n",
       "        vertical-align: middle;\n",
       "    }\n",
       "\n",
       "    .dataframe tbody tr th {\n",
       "        vertical-align: top;\n",
       "    }\n",
       "\n",
       "    .dataframe thead th {\n",
       "        text-align: right;\n",
       "    }\n",
       "</style>\n",
       "<table border=\"1\" class=\"dataframe\">\n",
       "  <thead>\n",
       "    <tr style=\"text-align: right;\">\n",
       "      <th></th>\n",
       "      <th>book_title</th>\n",
       "      <th>book_authors</th>\n",
       "      <th>book_desc</th>\n",
       "      <th>genres</th>\n",
       "      <th>image_url</th>\n",
       "      <th>cleaned_description</th>\n",
       "    </tr>\n",
       "  </thead>\n",
       "  <tbody>\n",
       "    <tr>\n",
       "      <th>0</th>\n",
       "      <td>The Hunger Games</td>\n",
       "      <td>Suzanne Collins</td>\n",
       "      <td>Winning will make you famous. Losing means cer...</td>\n",
       "      <td>Young Adult|Fiction|Science Fiction|Dystopia|F...</td>\n",
       "      <td>https://images.gr-assets.com/books/1447303603l...</td>\n",
       "      <td>winning will make you famous losing means cert...</td>\n",
       "    </tr>\n",
       "  </tbody>\n",
       "</table>\n",
       "</div>"
      ],
      "text/plain": [
       "         book_title     book_authors  \\\n",
       "0  The Hunger Games  Suzanne Collins   \n",
       "\n",
       "                                           book_desc  \\\n",
       "0  Winning will make you famous. Losing means cer...   \n",
       "\n",
       "                                              genres  \\\n",
       "0  Young Adult|Fiction|Science Fiction|Dystopia|F...   \n",
       "\n",
       "                                           image_url  \\\n",
       "0  https://images.gr-assets.com/books/1447303603l...   \n",
       "\n",
       "                                 cleaned_description  \n",
       "0  winning will make you famous losing means cert...  "
      ]
     },
     "execution_count": 12,
     "metadata": {},
     "output_type": "execute_result"
    }
   ],
   "source": [
    "descriptions.head(1)"
   ]
  },
  {
   "cell_type": "code",
   "execution_count": 13,
   "metadata": {},
   "outputs": [],
   "source": [
    "descriptions.to_csv('data/descriptions.csv')"
   ]
  },
  {
   "cell_type": "markdown",
   "metadata": {},
   "source": [
    "#### Seperating Genres and authors into individual rows"
   ]
  },
  {
   "cell_type": "code",
   "execution_count": 25,
   "metadata": {},
   "outputs": [],
   "source": [
    "#cleaning author names\n",
    "books.book_authors = list(books.book_authors.str.split('|'))\n",
    "#Creating a new row for every listed genre\n",
    "authors = books.apply(lambda x: pd.Series(x.book_authors),axis=1).stack().reset_index(level=1, drop=True)\n",
    "authors.name = 'author'\n",
    "books = books.drop('book_authors', axis=1).join(authors).drop_duplicates()"
   ]
  },
  {
   "cell_type": "code",
   "execution_count": 26,
   "metadata": {},
   "outputs": [],
   "source": [
    "#cleaning genre\n",
    "books.genres = list(books.genres.str.split('|'))\n",
    "#Creating a new row for every listed genre\n",
    "genres = books.apply(lambda x: pd.Series(x.genres),axis=1).stack().reset_index(level=1, drop=True)\n",
    "genres.name = 'genre'\n",
    "books = books.drop('genres', axis=1).join(genres).drop_duplicates()"
   ]
  },
  {
   "cell_type": "code",
   "execution_count": 27,
   "metadata": {},
   "outputs": [
    {
     "data": {
      "text/plain": [
       "360186"
      ]
     },
     "execution_count": 27,
     "metadata": {},
     "output_type": "execute_result"
    }
   ],
   "source": [
    "#selecting columns\n",
    "books = books[['book_title','author','genre' ,'book_rating', 'book_pages','book_format', 'book_desc','image_url']]\n",
    "len(books)"
   ]
  },
  {
   "cell_type": "code",
   "execution_count": 11,
   "metadata": {
    "scrolled": true
   },
   "outputs": [
    {
     "data": {
      "text/html": [
       "<div>\n",
       "<style scoped>\n",
       "    .dataframe tbody tr th:only-of-type {\n",
       "        vertical-align: middle;\n",
       "    }\n",
       "\n",
       "    .dataframe tbody tr th {\n",
       "        vertical-align: top;\n",
       "    }\n",
       "\n",
       "    .dataframe thead th {\n",
       "        text-align: right;\n",
       "    }\n",
       "</style>\n",
       "<table border=\"1\" class=\"dataframe\">\n",
       "  <thead>\n",
       "    <tr style=\"text-align: right;\">\n",
       "      <th></th>\n",
       "      <th>book_title</th>\n",
       "      <th>author</th>\n",
       "      <th>genre</th>\n",
       "      <th>book_rating</th>\n",
       "      <th>book_pages</th>\n",
       "      <th>book_format</th>\n",
       "      <th>book_desc</th>\n",
       "      <th>image_url</th>\n",
       "    </tr>\n",
       "  </thead>\n",
       "  <tbody>\n",
       "    <tr>\n",
       "      <th>0</th>\n",
       "      <td>The Hunger Games</td>\n",
       "      <td>Suzanne Collins</td>\n",
       "      <td>Young Adult</td>\n",
       "      <td>4.33</td>\n",
       "      <td>374.0</td>\n",
       "      <td>hardcover</td>\n",
       "      <td>winning will make you famous losing means cert...</td>\n",
       "      <td>https://images.gr-assets.com/books/1447303603l...</td>\n",
       "    </tr>\n",
       "    <tr>\n",
       "      <th>0</th>\n",
       "      <td>The Hunger Games</td>\n",
       "      <td>Suzanne Collins</td>\n",
       "      <td>Fiction</td>\n",
       "      <td>4.33</td>\n",
       "      <td>374.0</td>\n",
       "      <td>hardcover</td>\n",
       "      <td>winning will make you famous losing means cert...</td>\n",
       "      <td>https://images.gr-assets.com/books/1447303603l...</td>\n",
       "    </tr>\n",
       "    <tr>\n",
       "      <th>0</th>\n",
       "      <td>The Hunger Games</td>\n",
       "      <td>Suzanne Collins</td>\n",
       "      <td>Science Fiction</td>\n",
       "      <td>4.33</td>\n",
       "      <td>374.0</td>\n",
       "      <td>hardcover</td>\n",
       "      <td>winning will make you famous losing means cert...</td>\n",
       "      <td>https://images.gr-assets.com/books/1447303603l...</td>\n",
       "    </tr>\n",
       "    <tr>\n",
       "      <th>0</th>\n",
       "      <td>The Hunger Games</td>\n",
       "      <td>Suzanne Collins</td>\n",
       "      <td>Dystopia</td>\n",
       "      <td>4.33</td>\n",
       "      <td>374.0</td>\n",
       "      <td>hardcover</td>\n",
       "      <td>winning will make you famous losing means cert...</td>\n",
       "      <td>https://images.gr-assets.com/books/1447303603l...</td>\n",
       "    </tr>\n",
       "    <tr>\n",
       "      <th>0</th>\n",
       "      <td>The Hunger Games</td>\n",
       "      <td>Suzanne Collins</td>\n",
       "      <td>Fantasy</td>\n",
       "      <td>4.33</td>\n",
       "      <td>374.0</td>\n",
       "      <td>hardcover</td>\n",
       "      <td>winning will make you famous losing means cert...</td>\n",
       "      <td>https://images.gr-assets.com/books/1447303603l...</td>\n",
       "    </tr>\n",
       "  </tbody>\n",
       "</table>\n",
       "</div>"
      ],
      "text/plain": [
       "         book_title           author            genre  book_rating  \\\n",
       "0  The Hunger Games  Suzanne Collins      Young Adult         4.33   \n",
       "0  The Hunger Games  Suzanne Collins          Fiction         4.33   \n",
       "0  The Hunger Games  Suzanne Collins  Science Fiction         4.33   \n",
       "0  The Hunger Games  Suzanne Collins         Dystopia         4.33   \n",
       "0  The Hunger Games  Suzanne Collins          Fantasy         4.33   \n",
       "\n",
       "   book_pages book_format                                          book_desc  \\\n",
       "0       374.0   hardcover  winning will make you famous losing means cert...   \n",
       "0       374.0   hardcover  winning will make you famous losing means cert...   \n",
       "0       374.0   hardcover  winning will make you famous losing means cert...   \n",
       "0       374.0   hardcover  winning will make you famous losing means cert...   \n",
       "0       374.0   hardcover  winning will make you famous losing means cert...   \n",
       "\n",
       "                                           image_url  \n",
       "0  https://images.gr-assets.com/books/1447303603l...  \n",
       "0  https://images.gr-assets.com/books/1447303603l...  \n",
       "0  https://images.gr-assets.com/books/1447303603l...  \n",
       "0  https://images.gr-assets.com/books/1447303603l...  \n",
       "0  https://images.gr-assets.com/books/1447303603l...  "
      ]
     },
     "execution_count": 11,
     "metadata": {},
     "output_type": "execute_result"
    }
   ],
   "source": [
    "books.head()"
   ]
  },
  {
   "cell_type": "code",
   "execution_count": 13,
   "metadata": {},
   "outputs": [],
   "source": [
    "#write to csv\n",
    "#360,186 books repeats for genre and multiple authors \n",
    "books.to_csv('data/clean_books.csv')"
   ]
  },
  {
   "cell_type": "code",
   "execution_count": null,
   "metadata": {},
   "outputs": [],
   "source": []
  }
 ],
 "metadata": {
  "kernelspec": {
   "display_name": "Python 3",
   "language": "python",
   "name": "python3"
  },
  "language_info": {
   "codemirror_mode": {
    "name": "ipython",
    "version": 3
   },
   "file_extension": ".py",
   "mimetype": "text/x-python",
   "name": "python",
   "nbconvert_exporter": "python",
   "pygments_lexer": "ipython3",
   "version": "3.7.3"
  }
 },
 "nbformat": 4,
 "nbformat_minor": 2
}
